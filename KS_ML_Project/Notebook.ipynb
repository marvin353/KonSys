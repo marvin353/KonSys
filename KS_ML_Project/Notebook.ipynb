{
 "cells": [
  {
   "cell_type": "markdown",
   "metadata": {
    "collapsed": true,
    "pycharm": {
     "name": "#%% md\n"
    }
   },
   "source": [
    "# Übersicht\n",
    "\n",
    "## Sensing\n",
    "### Excercise 1 Context\n",
    "    a. Sketch a contextsensitive Application\n",
    "        Adaptive Karten-App: Eine App die anhand der Bewegungen des Smartphones erkennt ob der nutzer gerade zu Fuß oder im Auto unterwegs ist, oder ob das Smartphone ruhig auf einer Fläche, z.B. einem Tisch liegt. Die App ist dann in der Lege selbstständig die Ausgabe so anzupassen, dass diese entweder für Fußgänger (es werden z.B. Gehwege bei der Route mit einbezogen), für Autofahrer (explizit keine Gehwege in der berechneten Route), oder für die Routenplanung (z.B. Smartphone liegt vor Nutzer auf Tisch ) optimiert.\n",
    "    b. Categorize it according to Schilit (explain why)\n",
    "        Nach Schilit fällt die App in die Klasse \"Contextual Recofiguration\", da vollautomatisch und ohne menschliches zutun der Context erkannt und die Adaption ausgeführt wird. Beim Output handelt es sich um einen rein informatieven (es wird die Darstellung der Karte angepasst).Es wird keine Aktion ausgeführt, daher fällt die App nicht in die Klasse \"Contextual Trigger\".\n",
    "    c. Categorize all relevant context regarding category of context, passive/active and primary/secondary\n",
    "        Kontext ist ein Set von Umgebungszuständen und Einstellungen, die dass App-Verhalten bestimmen und für den Nutzer relevant sind.\n",
    "        Primärer Kontext: Ort,Zeit,Personen, Aktivitäten\n",
    "        Sekundärer Kontext: Alles was aus primärem Kontext ableitbar ist\n",
    "    d. Modify a. to be in another class according to Schilit (Tip: You may modify the previous answer if this does not work)\n",
    "        Falls die App nicht in der Lage wäre den Kontext anhand von Sensordaten zu erkennen, so könnte man dem Nutzer die Möglichkeit geben diesen über integriete Schaltflächen auszuwählen. der Output wäre der selbe, jedoch fällt die App dann nicht mehr in die \"Automatic Reconfiguration\" Klasse sondern in \"Proximate Selection\"\n"
   ]
  },
  {
   "cell_type": "markdown",
   "source": [],
   "metadata": {
    "collapsed": false,
    "pycharm": {
     "name": "#%% md\n"
    }
   }
  }
 ],
 "metadata": {
  "kernelspec": {
   "display_name": "Python 3",
   "language": "python",
   "name": "python3"
  },
  "language_info": {
   "codemirror_mode": {
    "name": "ipython",
    "version": 2
   },
   "file_extension": ".py",
   "mimetype": "text/x-python",
   "name": "python",
   "nbconvert_exporter": "python",
   "pygments_lexer": "ipython2",
   "version": "2.7.6"
  }
 },
 "nbformat": 4,
 "nbformat_minor": 0
}