{
 "cells": [
  {
   "cell_type": "markdown",
   "metadata": {
    "collapsed": true,
    "pycharm": {
     "name": "#%% md\n"
    }
   },
   "source": [
    "# Übersicht\n",
    "\n",
    "## Sensing\n",
    "### Excercise 1 Context\n",
    "    - Sketch a contextsensitive Application\n",
    "    - Categorize it according to Schilit (explain why)\n",
    "    - Categorize all relevant context regarding category of context, passive/active and primary/secondary\n",
    "    - Modify a. to be in another class according to Schilit (Tip: You may modify the previous answer if this does not work)\n",
    "\n",
    "### Excercise 2 Sensors\n",
    "    - Create a webpage that contains a form with a text field called (call it Context) and a toggle switch (Tip: https://www.w3schools.com/howto/howto_css_switch.asp)\n",
    "    - Add a EventListener to the DeviceMotionEvent that gets enabled on Toggle\n",
    "    (you can experiment first with the DeviceOrientationEvent that can be simulated in Chrome via More Tools->Developer Tools and inside More Tools->Sensors, See also: https://www.html5rocks.com/en/tutorials/device/orientation/)\n",
    "    Create an account on https://app.edge-ml.org and activate the Device API to generate a device key using https://github.com/edge-ml/javascript\n",
    "    Use the provided snippet to write to the database using\n",
    "    Collect data for some context that may be inferred from accelerometer data (use e.g. https://codesandbox.io/, you will need https, alternatively you can try e.g. a cloudflare tunnel)\n",
    "    Optional: Extend with more sensors (http://caniuse.com/ambient-light, https://developer.mozilla.org/en-US/docs/Web/API/Web_Audio_API/Visualizations_with_Web_Audio_API, https://developer.mozilla.org/en-US/docs/Web/API/Touch_events, )\n",
    "\n",
    "## Features - Excercise 3\n",
    "    a. Install Jupyter\n",
    "    b. Use https://github.com/edge-ml/python to download your data set\n",
    "    c. use pandas to create windows: https://pandas.pydata.org/docs/user_guide/window.html and use mean and variance as features\n",
    "    d. join all datasets into a single dataframe\n",
    "    e. use seaborn to plot your feature space: https://seaborn.pydata.org/tutorial/function_overview.html\n",
    "    f. create \"better\" features\n",
    "\n",
    "## Model Selection - Excercise 4\n",
    "    a. Do a leave-one-subject out test train split, e.g. using skleanr: https://scikit-learn.org/stable/modules/generated/sklearn.model_selection.LeaveOneGroupOut.html\n",
    "    b. Train different classifiers like those used here: https://scikit-learn.org/stable/auto_examples/classification/plot_classifier_comparison.html and compare accuracy, precission, recall, F1-Score\n",
    "    c. Compare leave one subject out against simple 10-fold crossvalidation results of best models\n",
    "    d. Select a feature subset you believe is good based on the last excercise and compare best models\n",
    "    e. Perform a recursive https://scikit-learn.org/stable/modules/generated/sklearn.feature_selection.RFE.html on models that support\n",
    "\n",
    "## Optimization - Excercise 3\n",
    "    a. choose a model you want to optimize and build your own Bayesian Optimizer using https://scikit-learn.org/stable/modules/generated/sklearn.gaussian_process.GaussianProcessRegressor.html\n",
    "    b. compare against the performance of https://automl.github.io/auto-sklearn/master/ using a fitting crossvalidation strategy https://automl.github.io/auto-sklearn/master/examples/40_advanced/example_resampling.html\n",
    "\n",
    "## Deployment - Excercise 3\n",
    "    a. choose a model you want to optimize and build your own Bayesian Optimizer using https://scikit-learn.org/stable/modules/generated/sklearn.gaussian_process.GaussianProcessRegressor.html\n",
    "    b. compare against the performance of https://automl.github.io/auto-sklearn/master/ using a fitting crossvalidation strategy https://automl.github.io/auto-sklearn/master/examples/40_advanced/example_resampling.html"
   ]
  },
  {
   "cell_type": "markdown",
   "source": [],
   "metadata": {
    "collapsed": false,
    "pycharm": {
     "name": "#%% md\n"
    }
   }
  }
 ],
 "metadata": {
  "kernelspec": {
   "display_name": "Python 3",
   "language": "python",
   "name": "python3"
  },
  "language_info": {
   "codemirror_mode": {
    "name": "ipython",
    "version": 2
   },
   "file_extension": ".py",
   "mimetype": "text/x-python",
   "name": "python",
   "nbconvert_exporter": "python",
   "pygments_lexer": "ipython2",
   "version": "2.7.6"
  }
 },
 "nbformat": 4,
 "nbformat_minor": 0
}