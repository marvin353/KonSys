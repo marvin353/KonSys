{
 "cells": [
  {
   "cell_type": "markdown",
   "metadata": {
    "collapsed": true,
    "pycharm": {
     "name": "#%% md\n"
    }
   },
   "source": [
    "# Übersicht\n",
    "\n",
    "## Sensing\n",
    "### Excercise 1 Context\n",
    "    a. Sketch a contextsensitive Application\n",
    "        Adaptive Karten-App: Eine App die anhand der Bewegungen des Smartphones erkennt ob der nutzer gerade zu Fuß oder im Auto unterwegs ist, oder ob das Smartphone ruhig auf einer Fläche, z.B. einem Tisch liegt. Die App ist dann in der Lege selbstständig die Ausgabe so anzupassen, dass diese entweder für Fußgänger (es werden z.B. Gehwege bei der Route mit einbezogen), für Autofahrer (explizit keine Gehwege in der berechneten Route), oder für die Routenplanung (z.B. Smartphone liegt vor Nutzer auf Tisch ) optimiert.\n",
    "    b. Categorize it according to Schilit (explain why)\n",
    "        Nach Schilit fällt die App in die Klasse \"Contextual Recofiguration\", da vollautomatisch und ohne menschliches zutun der Context erkannt und die Adaption ausgeführt wird. Beim Output handelt es sich um einen rein informatieven (es wird die Darstellung der Karte angepasst).Es wird keine Aktion ausgeführt, daher fällt die App nicht in die Klasse \"Contextual Trigger\".\n",
    "    c. Categorize all relevant context regarding category of context, passive/active and primary/secondary\n",
    "        Kontext ist ein Set von Umgebungszuständen und Einstellungen, die dass App-Verhalten bestimmen und (Chen/Kotz):\n",
    "    d. Modify a. to be in another class according to Schilit (Tip: You may modify the previous answer if this does not work)\n",
    "        Falls die App nicht in der Lage wäre den Kontext anhand von Sensordaten zu erkennen, so könnte man dem Nutzer die Möglichkeit geben diesen über integriete Schaltflächen auszuwählen. der Output wäre der selbe, jedoch fällt die App dann nicht mehr in die \"Automatic Reconfiguration\" Klasse sondern in \"Proximate Selection\"\n",
    "\n",
    "### Excercise 2 Sensors\n",
    "    - Create a webpage that contains a form with a text field called (call it Context) and a toggle switch (Tip: https://www.w3schools.com/howto/howto_css_switch.asp)\n",
    "    - Add a EventListener to the DeviceMotionEvent that gets enabled on Toggle\n",
    "    (you can experiment first with the DeviceOrientationEvent that can be simulated in Chrome via More Tools->Developer Tools and inside More Tools->Sensors, See also: https://www.html5rocks.com/en/tutorials/device/orientation/)\n",
    "    - Create an account on https://app.edge-ml.org and activate the Device API to generate a device key for using https://github.com/edge-ml/javascript\n",
    "    - Use the provided snippet to write to the database using\n",
    "    - Collect data for some context that may be inferred from accelerometer data (use e.g. https://codesandbox.io/, you will need https, alternatively you can try e.g. a cloudflare tunnel)\n",
    "    - Optional: Extend with more sensors (http://caniuse.com/ambient-light, https://developer.mozilla.org/en-US/docs/Web/API/Web_Audio_API/Visualizations_with_Web_Audio_API, https://developer.mozilla.org/en-US/docs/Web/API/Touch_events, )\n",
    "\n",
    "## Features - Excercise 3\n",
    "    a. Install Jupyter\n",
    "    b. Use https://github.com/edge-ml/python to download your data set\n",
    "    c. use pandas to create windows: https://pandas.pydata.org/docs/user_guide/window.html and use mean and variance as features\n",
    "    d. join all datasets into a single dataframe\n",
    "    e. use seaborn to plot your feature space: https://seaborn.pydata.org/tutorial/function_overview.html\n",
    "    f. create \"better\" features\n",
    "\n",
    "## Model Selection - Excercise 4\n",
    "    a. Do a leave-one-subject out test train split, e.g. using skleanr: https://scikit-learn.org/stable/modules/generated/sklearn.model_selection.LeaveOneGroupOut.html\n",
    "    b. Train different classifiers like those used here: https://scikit-learn.org/stable/auto_examples/classification/plot_classifier_comparison.html and compare accuracy, precission, recall, F1-Score\n",
    "    c. Compare leave one subject out against simple 10-fold crossvalidation results of best models\n",
    "    d. Select a feature subset you believe is good based on the last excercise and compare best models\n",
    "    e. Perform a recursive https://scikit-learn.org/stable/modules/generated/sklearn.feature_selection.RFE.html on models that support\n",
    "\n",
    "## Optimization - Excercise 3\n",
    "    a. choose a model you want to optimize and build your own Bayesian Optimizer using https://scikit-learn.org/stable/modules/generated/sklearn.gaussian_process.GaussianProcessRegressor.html\n",
    "    b. compare against the performance of https://automl.github.io/auto-sklearn/master/ using a fitting crossvalidation strategy https://automl.github.io/auto-sklearn/master/examples/40_advanced/example_resampling.html\n",
    "\n",
    "## Deployment - Excercise 3\n",
    "    a. use edge-ml to  train the model and export the model to Python\n",
    "    b. compare the performance of your model to the edge-ml model\n",
    "    c. export your model to javascript using edge-ml and build a small demo.\n",
    "    d. use sklearn-porter (https://github.com/nok/sklearn-porter) or another scoring framework to export your own model and plug it behind the demo"
   ]
  },
  {
   "cell_type": "markdown",
   "source": [],
   "metadata": {
    "collapsed": false,
    "pycharm": {
     "name": "#%% md\n"
    }
   }
  }
 ],
 "metadata": {
  "kernelspec": {
   "display_name": "Python 3",
   "language": "python",
   "name": "python3"
  },
  "language_info": {
   "codemirror_mode": {
    "name": "ipython",
    "version": 2
   },
   "file_extension": ".py",
   "mimetype": "text/x-python",
   "name": "python",
   "nbconvert_exporter": "python",
   "pygments_lexer": "ipython2",
   "version": "2.7.6"
  }
 },
 "nbformat": 4,
 "nbformat_minor": 0
}